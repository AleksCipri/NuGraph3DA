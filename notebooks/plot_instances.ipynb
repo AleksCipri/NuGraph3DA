{
 "cells": [
  {
   "cell_type": "code",
   "execution_count": null,
   "id": "205ce449-b004-47d3-b7db-ddf24fcb92a7",
   "metadata": {},
   "outputs": [],
   "source": [
    "import nugraph as ng\n",
    "import pynuml"
   ]
  },
  {
   "cell_type": "code",
   "execution_count": null,
   "id": "7dfcf38d-72a2-4035-b857-f056d9291823",
   "metadata": {},
   "outputs": [],
   "source": [
    "nudata = ng.data.H5DataModule(data_path='/raid/uboone/CHEP2023/enhanced-vertex.gnn.h5', batch_size=32)"
   ]
  },
  {
   "cell_type": "code",
   "execution_count": null,
   "id": "57755ddb-ca21-423e-b082-00e8c45aa4e5",
   "metadata": {},
   "outputs": [],
   "source": [
    "plot = pynuml.plot.GraphPlot(\n",
    "    planes=nudata.planes,\n",
    "    classes=nudata.semantic_classes)"
   ]
  },
  {
   "cell_type": "code",
   "execution_count": null,
   "id": "43b30833-4e10-4c58-a70e-7978c949310c",
   "metadata": {},
   "outputs": [],
   "source": [
    "for i in range(100):\n",
    "    data = nudata.train_dataset[i]\n",
    "    md = data['metadata']\n",
    "    name = f'r{md.run.item()}_sr{md.subrun.item()}_evt{md.event.item()}'\n",
    "    plot.plot(data, name=f'plots/{name}_instance_true', target='instance', how='true', filter='true')\n",
    "    plot.plot(data, name=f'plots/{name}_semantic_true', target='semantic', how='true', filter='true')"
   ]
  },
  {
   "cell_type": "code",
   "execution_count": null,
   "id": "96524220-c9fa-4cab-b547-68b16ea7039f",
   "metadata": {},
   "outputs": [],
   "source": []
  }
 ],
 "metadata": {
  "kernelspec": {
   "display_name": "Python 3 (ipykernel)",
   "language": "python",
   "name": "python3"
  },
  "language_info": {
   "codemirror_mode": {
    "name": "ipython",
    "version": 3
   },
   "file_extension": ".py",
   "mimetype": "text/x-python",
   "name": "python",
   "nbconvert_exporter": "python",
   "pygments_lexer": "ipython3",
   "version": "3.10.11"
  }
 },
 "nbformat": 4,
 "nbformat_minor": 5
}
