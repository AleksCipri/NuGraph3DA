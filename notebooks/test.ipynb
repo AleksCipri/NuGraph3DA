{
 "cells": [
  {
   "cell_type": "markdown",
   "id": "90edfc98-3ec9-4f1e-ab0a-874c79ee5a00",
   "metadata": {},
   "source": [
    "### Set GPU device\n",
    "Set CUDA device to enable single-GPU training. This step is essential in a multi-GPU environment, such as the Heimdall cluster. It's important to do this before importing torch or any ML-related packages."
   ]
  },
  {
   "cell_type": "code",
   "execution_count": null,
   "id": "0231b4f8-30be-46af-9bb9-eb5c539f6461",
   "metadata": {},
   "outputs": [],
   "source": [
    "from nugraph.util import set_device\n",
    "set_device()"
   ]
  },
  {
   "cell_type": "markdown",
   "id": "01dcd317-00bc-4d1b-bcc4-900e5da8fd12",
   "metadata": {},
   "source": [
    "### Import packages\n",
    "We'll need the `pytorch_lightning` and `nugraph` packages imported in order to train"
   ]
  },
  {
   "cell_type": "code",
   "execution_count": null,
   "id": "a2de9ffe-2d9f-48ee-b8c3-533ba9b7bf08",
   "metadata": {},
   "outputs": [],
   "source": [
    "import nugraph as ng\n",
    "import pytorch_lightning as pl"
   ]
  },
  {
   "cell_type": "markdown",
   "id": "3463a630-07ef-42ba-bcea-37c70133512b",
   "metadata": {},
   "source": [
    "### Configure data module\n",
    "Declare a data module. Depending on where you're working, you should edit the data path below to point to a valid data location."
   ]
  },
  {
   "cell_type": "code",
   "execution_count": null,
   "id": "db32ec68-0b7c-4566-a1d8-fa734ceb2a23",
   "metadata": {},
   "outputs": [],
   "source": [
    "nudata = ng.data.H5DataModule(data_path='/raid/uboone/CHEP2023/enhanced-vertex.gnn.h5', batch_size=64)"
   ]
  },
  {
   "cell_type": "markdown",
   "id": "993296cc-1804-48cf-80b1-fdaaacbcc723",
   "metadata": {},
   "source": [
    "### Configure network\n",
    "In order to test a trained model, we instantiate it using a checkpoint file. These are produced during training, so if you've trained a model, there should be an associated checkpoint in your output directory that you can pass here."
   ]
  },
  {
   "cell_type": "code",
   "execution_count": null,
   "id": "3b22fd77-42b4-41af-9f53-87982b4d61c4",
   "metadata": {},
   "outputs": [],
   "source": [
    "nugraph = ng.models.NuGraph2.load_from_checkpoint('/raid/vhewes/logs/both/version_0/checkpoints/epoch=35-step=168948.ckpt')"
   ]
  },
  {
   "cell_type": "markdown",
   "id": "bb9cfaaa-f81c-465e-8206-603ca095e26d",
   "metadata": {},
   "source": [
    "### Declare trainer and run testing\n",
    "Instantiate a PyTorch Lightning trainer that we'll use for testing, and then run the testing stage, which iterates over all batches in the test dataset and prints performance metrics."
   ]
  },
  {
   "cell_type": "code",
   "execution_count": null,
   "id": "ec5712a1-150c-4f09-9c45-b6bd65470ae4",
   "metadata": {},
   "outputs": [],
   "source": [
    "trainer = pl.Trainer(logger=False)\n",
    "trainer.test(nugraph, datamodule=nudata);"
   ]
  },
  {
   "cell_type": "code",
   "execution_count": null,
   "id": "84a08ba9-34d9-47d9-9186-2f2af8d39212",
   "metadata": {},
   "outputs": [],
   "source": []
  }
 ],
 "metadata": {
  "kernelspec": {
   "display_name": "Python 3 (ipykernel)",
   "language": "python",
   "name": "python3"
  },
  "language_info": {
   "codemirror_mode": {
    "name": "ipython",
    "version": 3
   },
   "file_extension": ".py",
   "mimetype": "text/x-python",
   "name": "python",
   "nbconvert_exporter": "python",
   "pygments_lexer": "ipython3",
   "version": "3.10.11"
  }
 },
 "nbformat": 4,
 "nbformat_minor": 5
}
