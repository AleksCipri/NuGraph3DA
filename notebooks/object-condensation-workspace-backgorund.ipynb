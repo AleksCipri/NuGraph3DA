{
 "cells": [
  {
   "cell_type": "markdown",
   "id": "ce693164-836c-47c0-a933-4986042600c0",
   "metadata": {},
   "source": [
    "### Set autoreloading\n",
    "This extension will automatically update with any changes to packages in real time"
   ]
  },
  {
   "cell_type": "code",
   "execution_count": 2,
   "id": "733e103f-ea23-4288-b69e-9e8a55f0b534",
   "metadata": {},
   "outputs": [],
   "source": [
    "%load_ext autoreload\n",
    "%autoreload 2"
   ]
  },
  {
   "cell_type": "markdown",
   "id": "84b16126-2ed2-4d51-8c66-a93acb38e97d",
   "metadata": {},
   "source": [
    "### Import packages\n",
    "We'll need the `nugraph` and `pynuml` packages imported in order to plot"
   ]
  },
  {
   "cell_type": "code",
   "execution_count": 3,
   "id": "b442335d-c606-49dd-a433-e5dcdf65cd91",
   "metadata": {},
   "outputs": [],
   "source": [
    "import torch\n",
    "import nugraph as ng\n",
    "import pynuml"
   ]
  },
  {
   "cell_type": "markdown",
   "id": "dc43e3c6-f82d-46d4-9bbe-dc8ffe573d9a",
   "metadata": {},
   "source": [
    "### Configure data module\n",
    "Declare a data module. Depending on where you're working, you should edit the data path below to point to a valid data location."
   ]
  },
  {
   "cell_type": "code",
   "execution_count": 4,
   "id": "c7af2444-0908-43d7-a57d-254bca5c5e76",
   "metadata": {},
   "outputs": [],
   "source": [
    "nudata = ng.data.H5DataModule(data_path='/raid/uboone/CHEP2023/enhanced-vertex.gnn.h5', batch_size=64)"
   ]
  },
  {
   "cell_type": "markdown",
   "id": "d19eadfd-33ab-41e9-901a-296c1c0fe5c6",
   "metadata": {},
   "source": [
    "## Configure plotting utility\n",
    "Instantiate the **pynuml** utility for plotting graph objects, which will do the heavy lifting for us here!"
   ]
  },
  {
   "cell_type": "code",
   "execution_count": 5,
   "id": "ddb02cdf-df37-492f-89f2-06a5821d5f23",
   "metadata": {},
   "outputs": [],
   "source": [
    "plot = pynuml.plot.GraphPlot(planes=nudata.planes,\n",
    "                             classes=nudata.semantic_classes)"
   ]
  },
  {
   "cell_type": "markdown",
   "id": "fc8176e1-0655-4f86-a7f7-f66fd32e81e3",
   "metadata": {},
   "source": [
    "## Plot ground truth labels\n",
    "\n",
    "### Iterable dataset\n",
    "\n",
    "First we define an iterator over the test dataset:"
   ]
  },
  {
   "cell_type": "code",
   "execution_count": 6,
   "id": "9db8fd68-b043-45ae-9381-0dfb1360d108",
   "metadata": {},
   "outputs": [],
   "source": [
    "test_iter = iter(nudata.test_dataset)"
   ]
  },
  {
   "cell_type": "markdown",
   "id": "86b92215-f402-4c33-abc1-253bf7fc54d2",
   "metadata": {},
   "source": [
    "### Retrieve the next graph\n",
    "\n",
    "This block retrieves a graph from the testing dataset. Since we defined `test_iter` as an iterator over the dataset, the following block can be executed multiple times, and each time it's executed, it will step to the next graph in the dataset."
   ]
  },
  {
   "cell_type": "code",
   "execution_count": 7,
   "id": "29fcbb7d-9900-43a8-aba6-5f6b67c2cc36",
   "metadata": {},
   "outputs": [],
   "source": [
    "data = next(test_iter)"
   ]
  },
  {
   "cell_type": "markdown",
   "id": "253d34a6-a395-405e-8d1d-88e0ad8e9c0f",
   "metadata": {},
   "source": [
    "### Plot a single graph\n",
    "\n",
    "We can now use pynuml's plotting utilities to plot the graph as a figure. Each time you call the above block to retrieve a new graph, you can then re-execute the plotting blocks to re-plot with the new graph."
   ]
  },
  {
   "cell_type": "code",
   "execution_count": 8,
   "id": "f039282c-976f-4d8e-aae5-f87ed3e3de6a",
   "metadata": {},
   "outputs": [],
   "source": [
    "fig = plot.plot(data, target='instance', how='true', filter='true')"
   ]
  },
  {
   "cell_type": "markdown",
   "id": "30add2ea-b7c6-4f50-9467-99eb636e481d",
   "metadata": {},
   "source": [
    "### Visualise the plot\n",
    "\n",
    "Now that we've plotted the graph as a figure, we can visualise that figure interactively simply by calling it here!"
   ]
  },
  {
   "cell_type": "code",
   "execution_count": 17,
   "id": "bc8987de-ff62-42e6-aa74-b84e3218e3df",
   "metadata": {},
   "outputs": [
    {
     "data": {
      "application/vnd.jupyter.widget-view+json": {
       "model_id": "b55bdf579f8940e1a1cd4e854302c578",
       "version_major": 2,
       "version_minor": 0
      },
      "text/plain": [
       "FigureWidget({\n",
       "    'data': [{'hovertemplate': ('plane=u<br>wire=%{x}<br>time=%' ... '%{marker.color}<extra></extra>'),\n",
       "              'legendgroup': '',\n",
       "              'marker': {'color': array([-1, -1, -1, ..., -1,  1,  1]),\n",
       "                         'coloraxis': 'coloraxis',\n",
       "                         'symbol': 'circle'},\n",
       "              'mode': 'markers',\n",
       "              'name': '',\n",
       "              'orientation': 'v',\n",
       "              'showlegend': False,\n",
       "              'type': 'scatter',\n",
       "              'uid': 'a5ab56c3-1c58-4682-9d7c-a19d171b0405',\n",
       "              'x': array([438.90002, 438.6    , 438.30002, ..., 348.90002, 348.6    , 348.30002],\n",
       "                         dtype=float32),\n",
       "              'xaxis': 'x',\n",
       "              'y': array([205.617  , 205.87093, 206.14066, ..., 291.85364, 292.59937, 292.53076],\n",
       "                         dtype=float32),\n",
       "              'yaxis': 'y'},\n",
       "             {'hovertemplate': ('plane=v<br>wire=%{x}<br>time=%' ... '%{marker.color}<extra></extra>'),\n",
       "              'legendgroup': '',\n",
       "              'marker': {'color': array([ 1,  1,  1, ..., -1, -1, -1]),\n",
       "                         'coloraxis': 'coloraxis',\n",
       "                         'symbol': 'circle'},\n",
       "              'mode': 'markers',\n",
       "              'name': '',\n",
       "              'orientation': 'v',\n",
       "              'showlegend': False,\n",
       "              'type': 'scatter',\n",
       "              'uid': 'f19be92b-e60b-463e-9de5-1550c2c9c1fe',\n",
       "              'x': array([337.80002, 337.5    , 337.2    , ..., 249.3    , 249.00002, 248.70001],\n",
       "                         dtype=float32),\n",
       "              'xaxis': 'x2',\n",
       "              'y': array([300.30594, 300.1769 , 300.08917, ..., 206.41397, 205.87611, 205.60684],\n",
       "                         dtype=float32),\n",
       "              'yaxis': 'y2'},\n",
       "             {'hovertemplate': ('plane=y<br>wire=%{x}<br>time=%' ... '%{marker.color}<extra></extra>'),\n",
       "              'legendgroup': '',\n",
       "              'marker': {'color': array([ 1,  1,  1, ..., -1, -1, -1]),\n",
       "                         'coloraxis': 'coloraxis',\n",
       "                         'symbol': 'circle'},\n",
       "              'mode': 'markers',\n",
       "              'name': '',\n",
       "              'orientation': 'v',\n",
       "              'showlegend': False,\n",
       "              'type': 'scatter',\n",
       "              'uid': 'b18249d4-cc96-4e89-a4d3-9fa4e26ec390',\n",
       "              'x': array([493.2    , 492.90002, 492.6    , ..., 467.40002, 467.40002, 467.40002],\n",
       "                         dtype=float32),\n",
       "              'xaxis': 'x3',\n",
       "              'y': array([300.24207, 300.18167, 300.09552, ..., 289.355  , 288.475  , 287.595  ],\n",
       "                         dtype=float32),\n",
       "              'yaxis': 'y3'}],\n",
       "    'layout': {'annotations': [{'showarrow': False,\n",
       "                                'text': 'u',\n",
       "                                'x': 0.15999999999999998,\n",
       "                                'xanchor': 'center',\n",
       "                                'xref': 'paper',\n",
       "                                'y': 1.0,\n",
       "                                'yanchor': 'bottom',\n",
       "                                'yref': 'paper'},\n",
       "                               {'showarrow': False,\n",
       "                                'text': 'v',\n",
       "                                'x': 0.49999999999999994,\n",
       "                                'xanchor': 'center',\n",
       "                                'xref': 'paper',\n",
       "                                'y': 1.0,\n",
       "                                'yanchor': 'bottom',\n",
       "                                'yref': 'paper'},\n",
       "                               {'showarrow': False,\n",
       "                                'text': 'y',\n",
       "                                'x': 0.8399999999999999,\n",
       "                                'xanchor': 'center',\n",
       "                                'xref': 'paper',\n",
       "                                'y': 1.0,\n",
       "                                'yanchor': 'bottom',\n",
       "                                'yref': 'paper'}],\n",
       "               'coloraxis': {'colorbar': {'title': {'text': 'Instance label'}},\n",
       "                             'colorscale': [[0.0, '#0d0887'], [0.1111111111111111,\n",
       "                                            '#46039f'], [0.2222222222222222,\n",
       "                                            '#7201a8'], [0.3333333333333333,\n",
       "                                            '#9c179e'], [0.4444444444444444,\n",
       "                                            '#bd3786'], [0.5555555555555556,\n",
       "                                            '#d8576b'], [0.6666666666666666,\n",
       "                                            '#ed7953'], [0.7777777777777778,\n",
       "                                            '#fb9f3a'], [0.8888888888888888,\n",
       "                                            '#fdca26'], [1.0, '#f0f921']]},\n",
       "               'legend': {'tracegroupgap': 0},\n",
       "               'template': '...',\n",
       "               'title': {'text': 'True instance labels (filtered by truth)'},\n",
       "               'xaxis': {'anchor': 'y', 'domain': [0.0, 0.31999999999999995], 'title': {'text': 'wire'}},\n",
       "               'xaxis2': {'anchor': 'y2', 'domain': [0.33999999999999997, 0.6599999999999999], 'title': {'text': 'wire'}},\n",
       "               'xaxis3': {'anchor': 'y3', 'domain': [0.6799999999999999, 0.9999999999999999], 'title': {'text': 'wire'}},\n",
       "               'yaxis': {'anchor': 'x', 'domain': [0.0, 1.0], 'title': {'text': 'time'}},\n",
       "               'yaxis2': {'anchor': 'x2', 'domain': [0.0, 1.0], 'showticklabels': False},\n",
       "               'yaxis3': {'anchor': 'x3', 'domain': [0.0, 1.0], 'showticklabels': False}}\n",
       "})"
      ]
     },
     "execution_count": 17,
     "metadata": {},
     "output_type": "execute_result"
    }
   ],
   "source": [
    "fig"
   ]
  },
  {
   "cell_type": "markdown",
   "id": "86ab6819-01a2-48fa-8f19-94c937a97822",
   "metadata": {},
   "source": [
    "### combine instance truth across all planes\n",
    "\n",
    "combine the hits from all planes into a single tensor"
   ]
  },
  {
   "cell_type": "code",
   "execution_count": 10,
   "id": "09664ad8-9bf7-42da-912b-758032f4f2ca",
   "metadata": {},
   "outputs": [
    {
     "data": {
      "text/plain": [
       "tensor([-1, -1, -1,  ..., -1, -1, -1])"
      ]
     },
     "execution_count": 10,
     "metadata": {},
     "output_type": "execute_result"
    }
   ],
   "source": [
    "y_instance = torch.cat([data[p].y_instance for p in nudata.planes], dim=0)\n",
    "y_instance"
   ]
  },
  {
   "cell_type": "markdown",
   "id": "48f96bab-7e27-41e8-a5ca-461563b17537",
   "metadata": {},
   "source": [
    "### number of background hits\n",
    "\n",
    "in the object condensation paper, $n_i$ is a Boolean array with a value of 1 for background hits (ie. hits that are not part of any instance), and a value of 0 otherwise. similarly, $N_B$ is the overall *number* of background hits."
   ]
  },
  {
   "cell_type": "code",
   "execution_count": 11,
   "id": "3e6562f1-f6b7-4689-957d-023697e3049e",
   "metadata": {},
   "outputs": [
    {
     "data": {
      "text/plain": [
       "(tensor([True, True, True,  ..., True, True, True]), tensor(1102))"
      ]
     },
     "execution_count": 11,
     "metadata": {},
     "output_type": "execute_result"
    }
   ],
   "source": [
    "n_i = (y_instance == -1)\n",
    "N_B = n_i.sum()\n",
    "n_i, N_B"
   ]
  },
  {
   "cell_type": "markdown",
   "id": "807a1b07-2d87-4a77-925e-af318c2a237d",
   "metadata": {},
   "source": [
    "### number of objects\n",
    "\n",
    "since the instance indices are ascending beginning with 0, the number of instances in the event $K$ is simply the maximum instance index plus 1."
   ]
  },
  {
   "cell_type": "code",
   "execution_count": 12,
   "id": "1379a442-145d-46fb-a15f-693e24b6e7ca",
   "metadata": {},
   "outputs": [
    {
     "data": {
      "text/plain": [
       "tensor(2)"
      ]
     },
     "execution_count": 12,
     "metadata": {},
     "output_type": "execute_result"
    }
   ],
   "source": [
    "K = y_instance.max() + 1\n",
    "K"
   ]
  },
  {
   "cell_type": "markdown",
   "id": "8c36ddf5-72cc-417d-be33-3c59573b202b",
   "metadata": {},
   "source": [
    "### cluster assignment matrix $M_{ik}$\n",
    "\n",
    "the cluster assignment matrix maps the hits onto their corresponding indices using a one-hot tensor."
   ]
  },
  {
   "cell_type": "code",
   "execution_count": 13,
   "id": "fa61b317-23c4-47f0-b11a-c1075c97a868",
   "metadata": {},
   "outputs": [
    {
     "data": {
      "text/plain": [
       "tensor([[0, 0],\n",
       "        [0, 0],\n",
       "        [0, 0],\n",
       "        ...,\n",
       "        [0, 0],\n",
       "        [0, 0],\n",
       "        [0, 0]])"
      ]
     },
     "execution_count": 13,
     "metadata": {},
     "output_type": "execute_result"
    }
   ],
   "source": [
    "M_ik = torch.zeros((y_instance.size(0), K)).long()\n",
    "M_ik[~n_i,:] = torch.nn.functional.one_hot(y_instance[~n_i], num_classes=K)\n",
    "M_ik"
   ]
  },
  {
   "cell_type": "markdown",
   "id": "6b295ba3-5024-408c-9d57-4c23029d6c4d",
   "metadata": {},
   "source": [
    "### $\\beta_{i}$\n",
    "\n",
    "the $\\beta_{i}$ array will come out of the decoder's convolution block itself, but for the purposes of testing, we can just create a fake one here with random values"
   ]
  },
  {
   "cell_type": "code",
   "execution_count": 14,
   "id": "6674bb0b-1cff-457d-bfaf-aa9419546df6",
   "metadata": {},
   "outputs": [
    {
     "data": {
      "text/plain": [
       "tensor([0.3789, 0.9288, 0.4104,  ..., 0.9905, 0.2571, 0.6387])"
      ]
     },
     "execution_count": 14,
     "metadata": {},
     "output_type": "execute_result"
    }
   ],
   "source": [
    "beta_i = torch.rand(y_instance.size(0))\n",
    "beta_i"
   ]
  },
  {
   "cell_type": "markdown",
   "id": "49a4eef5-889e-490d-9f75-b66880476b30",
   "metadata": {},
   "source": [
    "### $\\beta_{\\alpha k}$\n",
    "\n",
    "the $\\beta_{\\alpha k}$ tensor summarises the information from $\\beta_{i}$ across instances "
   ]
  },
  {
   "cell_type": "code",
   "execution_count": 15,
   "id": "e95e821f-5a31-4957-b34b-e8e0a29c2680",
   "metadata": {},
   "outputs": [
    {
     "data": {
      "text/plain": [
       "torch.return_types.max(\n",
       "values=tensor([0.9927, 0.9982]),\n",
       "indices=tensor([1116,  319]))"
      ]
     },
     "execution_count": 15,
     "metadata": {},
     "output_type": "execute_result"
    }
   ],
   "source": [
    "beta_ak = (beta_i[:,None] * M_ik).max(dim=0)\n",
    "beta_ak"
   ]
  },
  {
   "cell_type": "markdown",
   "id": "633f40b9-95a6-4cd3-a97c-5508252c556e",
   "metadata": {},
   "source": [
    "### exercise: define background loss function\n",
    "\n",
    "equation 7 in the [object condensation paper](https://arxiv.org/abs/2002.03605) defines the background loss term as $L_{\\beta} = \\frac{1}{K} \\sum_{k} (1 - \\beta_{\\alpha k}) + s_{B} \\frac{1}{N_{B}} \\sum_{i}^{N} n_{i} \\beta_{i}$"
   ]
  },
  {
   "cell_type": "code",
   "execution_count": 16,
   "id": "2736daf7-2433-4c19-93be-2e0ff9947405",
   "metadata": {},
   "outputs": [
    {
     "data": {
      "text/plain": [
       "tensor(0.4914)"
      ]
     },
     "execution_count": 16,
     "metadata": {},
     "output_type": "execute_result"
    }
   ],
   "source": [
    "import torch\n",
    "\n",
    "def background_loss(y_instance, beta_i):\n",
    "    S_b=1\n",
    "    n_i = (y_instance == -1)\n",
    "    M_ik = torch.zeros((y_instance.size(0), K)).long()\n",
    "    M_ik[~n_i,:] = torch.nn.functional.one_hot(y_instance[~n_i], num_classes=K)\n",
    "    beta_ak = (beta_i[:,None] * M_ik).max(dim=0).values\n",
    "    N_b = n_i.sum()\n",
    "    L_beta_1 = (1 - beta_ak).sum() / K\n",
    "    L_beta_2 = (S_b / N_b) * (n_i * beta_i).sum()\n",
    "    L_beta_T = torch.sum(L_beta_1 + L_beta_2)\n",
    "    return L_beta_T\n",
    "\n",
    "    # implement the code here!\n",
    "\n",
    "# call the function and get a return value\n",
    "background_loss(y_instance, beta_i )"
   ]
  },
  {
   "cell_type": "code",
   "execution_count": null,
   "id": "8de816ca-9d99-456b-b280-2407f6fdfc84",
   "metadata": {},
   "outputs": [],
   "source": []
  }
 ],
 "metadata": {
  "kernelspec": {
   "display_name": "Python 3 (ipykernel)",
   "language": "python",
   "name": "python3"
  },
  "language_info": {
   "codemirror_mode": {
    "name": "ipython",
    "version": 3
   },
   "file_extension": ".py",
   "mimetype": "text/x-python",
   "name": "python",
   "nbconvert_exporter": "python",
   "pygments_lexer": "ipython3",
   "version": "3.10.11"
  }
 },
 "nbformat": 4,
 "nbformat_minor": 5
}
