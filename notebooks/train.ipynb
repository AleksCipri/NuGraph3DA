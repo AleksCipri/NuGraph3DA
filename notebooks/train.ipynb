{
 "cells": [
  {
   "cell_type": "markdown",
   "id": "b46f82dc-6b3c-4e80-b3a1-da62b076e1b6",
   "metadata": {},
   "source": [
    "### Set GPU device\n",
    "Set CUDA device to enable single-GPU training. This step is essential in a multi-GPU environment, such as the Heimdall cluster. It's important to do this before importing torch or any ML-related packages."
   ]
  },
  {
   "cell_type": "code",
   "execution_count": null,
   "id": "535232f6-b91c-47f5-909b-87649db17c3f",
   "metadata": {},
   "outputs": [],
   "source": [
    "import os\n",
    "os.environ['CUDA_VISIBLE_DEVICES'] = '0'"
   ]
  },
  {
   "cell_type": "markdown",
   "id": "43fd2d1c-a144-4f5a-9acc-45206f26c4bc",
   "metadata": {},
   "source": [
    "### Import packages\n",
    "We'll need the `pytorch_lightning` and `nugraph` packages imported in order to train"
   ]
  },
  {
   "cell_type": "code",
   "execution_count": null,
   "id": "c6db3f02-8f1f-4a96-83f5-fc5d8886abf6",
   "metadata": {},
   "outputs": [],
   "source": [
    "import nugraph as ng\n",
    "import pytorch_lightning as pl"
   ]
  },
  {
   "cell_type": "markdown",
   "id": "59d08add-2aa1-4aa1-a4b9-20080cbc96dc",
   "metadata": {},
   "source": [
    "### Configure data module\n",
    "Declare a data module. Depending on where you're working, you should edit the data path below to point to a valid data location."
   ]
  },
  {
   "cell_type": "code",
   "execution_count": null,
   "id": "c0508fe3-a5ae-4485-9426-8042ea6d0b8e",
   "metadata": {},
   "outputs": [],
   "source": [
    "nudata = ng.data.H5DataModule(data_path='/raid/uboone/CHEP2023/enhanced.gnn.h5', batch_size=64)"
   ]
  },
  {
   "cell_type": "markdown",
   "id": "d1fc5014-cb2e-4b70-a28d-c4418263db30",
   "metadata": {},
   "source": [
    "### Configure network\n",
    "Declare a model. You can edit the arguments below to change the network configuration."
   ]
  },
  {
   "cell_type": "code",
   "execution_count": null,
   "id": "db0d2c7d-b5de-4bcf-afd7-86bbfdfae49f",
   "metadata": {},
   "outputs": [],
   "source": [
    "nugraph = ng.models.NuGraph2(\n",
    "    in_features=4,\n",
    "    node_features=64,\n",
    "    edge_features=16,\n",
    "    sp_features=16,\n",
    "    planes=nudata.planes,\n",
    "    classes=nudata.classes,\n",
    "    num_iters=5,\n",
    "    event_head=False,\n",
    "    semantic_head=True,\n",
    "    filter_head=False,\n",
    "    checkpoint=True,\n",
    "    lr=0.001)"
   ]
  },
  {
   "cell_type": "markdown",
   "id": "cde22fac-5a05-4963-9dbe-6afb048f5cfc",
   "metadata": {},
   "source": [
    "### Configure logger and callbacks\n",
    "Declare a tensorboard logger and define the output directory, so we can monitor network training. Also define a callback so we can monitor learning rate evolution."
   ]
  },
  {
   "cell_type": "code",
   "execution_count": null,
   "id": "8f953010-1ec3-461a-b2b8-6c99887b7c99",
   "metadata": {},
   "outputs": [],
   "source": [
    "logger = pl.loggers.TensorBoardLogger(save_dir='/raid/vhewes/logs', name='semantic', version='64_16_16')\n",
    "callbacks = [ pl.callbacks.LearningRateMonitor(logging_interval='step') ]"
   ]
  },
  {
   "cell_type": "markdown",
   "id": "d925a74d-9cf9-4829-872d-db585fb4000c",
   "metadata": {},
   "source": [
    "### Declare trainer and run training\n",
    "Instantiate a PyTorch Lightning trainer that we'll use for training, and then run the training stage, which iterates over all batches in the train and validation datasets to optimise model parameters, writing output metrics to tensorboard."
   ]
  },
  {
   "cell_type": "code",
   "execution_count": null,
   "id": "f6e7cfb5-0a54-46f7-b640-6b5eb121e5c1",
   "metadata": {},
   "outputs": [],
   "source": [
    "trainer = pl.Trainer(max_epochs=80,\n",
    "                     logger=logger,\n",
    "                     callbacks=callbacks)\n",
    "trainer.fit(nugraph, datamodule=nudata)"
   ]
  },
  {
   "cell_type": "code",
   "execution_count": null,
   "id": "c5ff31a7-0246-4705-97b4-58d06d6cd3bb",
   "metadata": {},
   "outputs": [],
   "source": []
  }
 ],
 "metadata": {
  "kernelspec": {
   "display_name": "Python 3 (ipykernel)",
   "language": "python",
   "name": "python3"
  },
  "language_info": {
   "codemirror_mode": {
    "name": "ipython",
    "version": 3
   },
   "file_extension": ".py",
   "mimetype": "text/x-python",
   "name": "python",
   "nbconvert_exporter": "python",
   "pygments_lexer": "ipython3",
   "version": "3.10.11"
  }
 },
 "nbformat": 4,
 "nbformat_minor": 5
}
