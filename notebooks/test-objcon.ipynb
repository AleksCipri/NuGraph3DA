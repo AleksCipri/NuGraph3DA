{
 "cells": [
  {
   "cell_type": "markdown",
   "id": "ce693164-836c-47c0-a933-4986042600c0",
   "metadata": {},
   "source": [
    "### Set autoreloading\n",
    "This extension will automatically update with any changes to packages in real time"
   ]
  },
  {
   "cell_type": "code",
   "execution_count": null,
   "id": "733e103f-ea23-4288-b69e-9e8a55f0b534",
   "metadata": {},
   "outputs": [],
   "source": [
    "%load_ext autoreload\n",
    "%autoreload 2"
   ]
  },
  {
   "cell_type": "markdown",
   "id": "84b16126-2ed2-4d51-8c66-a93acb38e97d",
   "metadata": {},
   "source": [
    "### Import packages\n",
    "We'll need the `nugraph` and `torch` packages"
   ]
  },
  {
   "cell_type": "code",
   "execution_count": null,
   "id": "b442335d-c606-49dd-a433-e5dcdf65cd91",
   "metadata": {},
   "outputs": [],
   "source": [
    "import nugraph as ng\n",
    "import torch\n",
    "import pandas as pd\n",
    "import plotly.express as px"
   ]
  },
  {
   "cell_type": "markdown",
   "id": "72ece9c1",
   "metadata": {},
   "source": [
    "## Manually define inputs\n",
    "\n",
    "Manually construct instance labels, and idealized $\\beta$ and $x$ tensors"
   ]
  },
  {
   "cell_type": "code",
   "execution_count": null,
   "id": "4f4ba444",
   "metadata": {},
   "outputs": [],
   "source": [
    "nhits = 150\n",
    "\n",
    "# throw random beta values\n",
    "beta = torch.rand(nhits).round()\n",
    "# beta[beta==1] = 0.99\n",
    "\n",
    "# generate ground truth\n",
    "y = torch.rand(nhits).round().long()\n",
    "y[beta==0] = -1\n",
    "\n",
    "# generate fake embedding\n",
    "x = torch.zeros([nhits,2])\n",
    "x[y==0, :] = 1\n",
    "x[y==1, :] = -1"
   ]
  },
  {
   "cell_type": "markdown",
   "id": "a954b49e",
   "metadata": {},
   "source": [
    "### Plot object condensation space\n",
    "\n",
    "Place tensors into DataFrame, and then visualize the coordinates with Plotly"
   ]
  },
  {
   "cell_type": "code",
   "execution_count": null,
   "id": "f3ac5059",
   "metadata": {},
   "outputs": [],
   "source": [
    "df = pd.DataFrame({\"x1\": x[:,0], \"x2\": x[:,1], \"beta\": beta, \"y\": y})\n",
    "fig = px.scatter(df, x='x1', y='x2', color='y')\n",
    "fig"
   ]
  },
  {
   "cell_type": "markdown",
   "id": "c9041cc5",
   "metadata": {},
   "source": [
    "### Test object condensation\n",
    "\n",
    "Calculate the loss for a perfect embedding, and then incrementally move one hit from its correct instance to an incorrect instance to see how the loss function reacts."
   ]
  },
  {
   "cell_type": "code",
   "execution_count": null,
   "id": "cb24da5f",
   "metadata": {},
   "outputs": [],
   "source": [
    "loss = ng.util.ObjCondensationLoss()\n",
    "for i in range(-10, 11):\n",
    "    x[0,:] = -0.1 * i\n",
    "    l = loss((x, beta), y)\n",
    "    print(f\"moved hit to coordinate {x[0,0].item():.1f}, loss is {l.item():.2f}\")"
   ]
  },
  {
   "cell_type": "code",
   "execution_count": null,
   "id": "919cb89a",
   "metadata": {},
   "outputs": [],
   "source": []
  }
 ],
 "metadata": {
  "kernelspec": {
   "display_name": "Python 3 (ipykernel)",
   "language": "python",
   "name": "python3"
  },
  "language_info": {
   "codemirror_mode": {
    "name": "ipython",
    "version": 3
   },
   "file_extension": ".py",
   "mimetype": "text/x-python",
   "name": "python",
   "nbconvert_exporter": "python",
   "pygments_lexer": "ipython3",
   "version": "3.10.12"
  }
 },
 "nbformat": 4,
 "nbformat_minor": 5
}
