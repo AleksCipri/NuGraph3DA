{
 "cells": [
  {
   "cell_type": "markdown",
   "id": "ce693164-836c-47c0-a933-4986042600c0",
   "metadata": {},
   "source": [
    "### Set autoreloading\n",
    "This extension will automatically update with any changes to packages in real time"
   ]
  },
  {
   "cell_type": "code",
   "execution_count": null,
   "id": "733e103f-ea23-4288-b69e-9e8a55f0b534",
   "metadata": {},
   "outputs": [],
   "source": [
    "%load_ext autoreload\n",
    "%autoreload 2"
   ]
  },
  {
   "cell_type": "markdown",
   "id": "84b16126-2ed2-4d51-8c66-a93acb38e97d",
   "metadata": {},
   "source": [
    "### Import packages\n",
    "We'll need the `nugraph` and `pynuml` packages imported in order to plot"
   ]
  },
  {
   "cell_type": "code",
   "execution_count": null,
   "id": "b442335d-c606-49dd-a433-e5dcdf65cd91",
   "metadata": {},
   "outputs": [],
   "source": [
    "import torch\n",
    "import nugraph as ng\n",
    "import pynuml"
   ]
  },
  {
   "cell_type": "markdown",
   "id": "dc43e3c6-f82d-46d4-9bbe-dc8ffe573d9a",
   "metadata": {},
   "source": [
    "### Configure data module\n",
    "Declare a data module. Depending on where you're working, you should edit the data path below to point to a valid data location."
   ]
  },
  {
   "cell_type": "code",
   "execution_count": null,
   "id": "c7af2444-0908-43d7-a57d-254bca5c5e76",
   "metadata": {},
   "outputs": [],
   "source": [
    "nudata = ng.data.H5DataModule(data_path='/raid/uboone/CHEP2023/enhanced-vertex.gnn.h5', batch_size=64)"
   ]
  },
  {
   "cell_type": "markdown",
   "id": "d19eadfd-33ab-41e9-901a-296c1c0fe5c6",
   "metadata": {},
   "source": [
    "## Configure plotting utility\n",
    "Instantiate the **pynuml** utility for plotting graph objects, which will do the heavy lifting for us here!"
   ]
  },
  {
   "cell_type": "code",
   "execution_count": null,
   "id": "ddb02cdf-df37-492f-89f2-06a5821d5f23",
   "metadata": {},
   "outputs": [],
   "source": [
    "plot = pynuml.plot.GraphPlot(planes=nudata.planes,\n",
    "                             classes=nudata.semantic_classes)"
   ]
  },
  {
   "cell_type": "markdown",
   "id": "fc8176e1-0655-4f86-a7f7-f66fd32e81e3",
   "metadata": {},
   "source": [
    "## Plot ground truth labels\n",
    "\n",
    "### Iterable dataset\n",
    "\n",
    "First we define an iterator over the test dataset:"
   ]
  },
  {
   "cell_type": "code",
   "execution_count": null,
   "id": "9db8fd68-b043-45ae-9381-0dfb1360d108",
   "metadata": {},
   "outputs": [],
   "source": [
    "test_iter = iter(nudata.test_dataset)"
   ]
  },
  {
   "cell_type": "markdown",
   "id": "86b92215-f402-4c33-abc1-253bf7fc54d2",
   "metadata": {},
   "source": [
    "### Retrieve the next graph\n",
    "\n",
    "This block retrieves a graph from the testing dataset. Since we defined `test_iter` as an iterator over the dataset, the following block can be executed multiple times, and each time it's executed, it will step to the next graph in the dataset."
   ]
  },
  {
   "cell_type": "code",
   "execution_count": null,
   "id": "29fcbb7d-9900-43a8-aba6-5f6b67c2cc36",
   "metadata": {},
   "outputs": [],
   "source": [
    "data = next(test_iter)"
   ]
  },
  {
   "cell_type": "markdown",
   "id": "86ab6819-01a2-48fa-8f19-94c937a97822",
   "metadata": {},
   "source": [
    "### Instantiate loss function and calculate value\n",
    "\n",
    "define placeholder values for the inputs, and then pass them into the class to calculate the loss"
   ]
  },
  {
   "cell_type": "code",
   "execution_count": null,
   "id": "55591310-0bba-42cf-add2-4a688f2d615a",
   "metadata": {},
   "outputs": [],
   "source": [
    "loss_func = ng.util.ObjCondensationLoss()"
   ]
  },
  {
   "cell_type": "code",
   "execution_count": null,
   "id": "5d1a2017-6446-4460-8355-38240cbbd8ef",
   "metadata": {},
   "outputs": [],
   "source": [
    "y = torch.cat([data[p].y_instance for p in nudata.planes], dim=0)\n",
    "x = torch.rand(y.size(0), 3)\n",
    "beta = torch.rand(y.size(0))\n",
    "loss_func(x, beta, y)"
   ]
  },
  {
   "cell_type": "code",
   "execution_count": null,
   "id": "a5a1d134-ddad-4d24-a2e0-f27f487b4f9f",
   "metadata": {},
   "outputs": [],
   "source": []
  }
 ],
 "metadata": {
  "kernelspec": {
   "display_name": "Python 3 (ipykernel)",
   "language": "python",
   "name": "python3"
  },
  "language_info": {
   "codemirror_mode": {
    "name": "ipython",
    "version": 3
   },
   "file_extension": ".py",
   "mimetype": "text/x-python",
   "name": "python",
   "nbconvert_exporter": "python",
   "pygments_lexer": "ipython3",
   "version": "3.10.10"
  }
 },
 "nbformat": 4,
 "nbformat_minor": 5
}
