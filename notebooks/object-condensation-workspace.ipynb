{
 "cells": [
  {
   "cell_type": "markdown",
   "id": "ce693164-836c-47c0-a933-4986042600c0",
   "metadata": {},
   "source": [
    "### Set autoreloading\n",
    "This extension will automatically update with any changes to packages in real time"
   ]
  },
  {
   "cell_type": "code",
   "execution_count": null,
   "id": "733e103f-ea23-4288-b69e-9e8a55f0b534",
   "metadata": {},
   "outputs": [],
   "source": [
    "%load_ext autoreload\n",
    "%autoreload 2"
   ]
  },
  {
   "cell_type": "markdown",
   "id": "84b16126-2ed2-4d51-8c66-a93acb38e97d",
   "metadata": {},
   "source": [
    "### Import packages\n",
    "We'll need the `nugraph` and `pynuml` packages imported in order to plot"
   ]
  },
  {
   "cell_type": "code",
   "execution_count": null,
   "id": "b442335d-c606-49dd-a433-e5dcdf65cd91",
   "metadata": {},
   "outputs": [],
   "source": [
    "import torch\n",
    "import nugraph as ng\n",
    "import pynuml"
   ]
  },
  {
   "cell_type": "markdown",
   "id": "dc43e3c6-f82d-46d4-9bbe-dc8ffe573d9a",
   "metadata": {},
   "source": [
    "### Configure data module\n",
    "Declare a data module. Depending on where you're working, you should edit the data path below to point to a valid data location."
   ]
  },
  {
   "cell_type": "code",
   "execution_count": null,
   "id": "c7af2444-0908-43d7-a57d-254bca5c5e76",
   "metadata": {},
   "outputs": [],
   "source": [
    "nudata = ng.data.H5DataModule(data_path='/raid/uboone/CHEP2023/enhanced-vertex.gnn.h5', batch_size=64)"
   ]
  },
  {
   "cell_type": "markdown",
   "id": "d19eadfd-33ab-41e9-901a-296c1c0fe5c6",
   "metadata": {},
   "source": [
    "## Configure plotting utility\n",
    "Instantiate the **pynuml** utility for plotting graph objects, which will do the heavy lifting for us here!"
   ]
  },
  {
   "cell_type": "code",
   "execution_count": null,
   "id": "ddb02cdf-df37-492f-89f2-06a5821d5f23",
   "metadata": {},
   "outputs": [],
   "source": [
    "plot = pynuml.plot.GraphPlot(planes=nudata.planes,\n",
    "                             classes=nudata.semantic_classes)"
   ]
  },
  {
   "cell_type": "markdown",
   "id": "fc8176e1-0655-4f86-a7f7-f66fd32e81e3",
   "metadata": {},
   "source": [
    "## Plot ground truth labels\n",
    "\n",
    "### Iterable dataset\n",
    "\n",
    "First we define an iterator over the test dataset:"
   ]
  },
  {
   "cell_type": "code",
   "execution_count": null,
   "id": "9db8fd68-b043-45ae-9381-0dfb1360d108",
   "metadata": {},
   "outputs": [],
   "source": [
    "test_iter = iter(nudata.test_dataset)"
   ]
  },
  {
   "cell_type": "markdown",
   "id": "86b92215-f402-4c33-abc1-253bf7fc54d2",
   "metadata": {},
   "source": [
    "### Retrieve the next graph\n",
    "\n",
    "This block retrieves a graph from the testing dataset. Since we defined `test_iter` as an iterator over the dataset, the following block can be executed multiple times, and each time it's executed, it will step to the next graph in the dataset."
   ]
  },
  {
   "cell_type": "code",
   "execution_count": null,
   "id": "29fcbb7d-9900-43a8-aba6-5f6b67c2cc36",
   "metadata": {},
   "outputs": [],
   "source": [
    "data = next(test_iter)"
   ]
  },
  {
   "cell_type": "markdown",
   "id": "253d34a6-a395-405e-8d1d-88e0ad8e9c0f",
   "metadata": {},
   "source": [
    "### Plot a single graph\n",
    "\n",
    "We can now use pynuml's plotting utilities to plot the graph as a figure. Each time you call the above block to retrieve a new graph, you can then re-execute the plotting blocks to re-plot with the new graph."
   ]
  },
  {
   "cell_type": "code",
   "execution_count": null,
   "id": "f039282c-976f-4d8e-aae5-f87ed3e3de6a",
   "metadata": {},
   "outputs": [],
   "source": [
    "fig = plot.plot(data, target='instance', how='true', filter='true')"
   ]
  },
  {
   "cell_type": "markdown",
   "id": "30add2ea-b7c6-4f50-9467-99eb636e481d",
   "metadata": {},
   "source": [
    "### Visualise the plot\n",
    "\n",
    "Now that we've plotted the graph as a figure, we can visualise that figure interactively simply by calling it here!"
   ]
  },
  {
   "cell_type": "code",
   "execution_count": null,
   "id": "bc8987de-ff62-42e6-aa74-b84e3218e3df",
   "metadata": {},
   "outputs": [],
   "source": [
    "fig"
   ]
  },
  {
   "cell_type": "markdown",
   "id": "86ab6819-01a2-48fa-8f19-94c937a97822",
   "metadata": {},
   "source": [
    "### combine instance truth across all planes\n",
    "\n",
    "combine the hits from all planes into a single tensor"
   ]
  },
  {
   "cell_type": "code",
   "execution_count": null,
   "id": "09664ad8-9bf7-42da-912b-758032f4f2ca",
   "metadata": {},
   "outputs": [],
   "source": [
    "y_instance = torch.cat([data[p].y_instance for p in nudata.planes], dim=0)\n",
    "y_instance"
   ]
  },
  {
   "cell_type": "markdown",
   "id": "48f96bab-7e27-41e8-a5ca-461563b17537",
   "metadata": {},
   "source": [
    "### number of background hits\n",
    "\n",
    "in the object condensation paper, $n_i$ is a Boolean array with a value of 1 for background hits (ie. hits that are not part of any instance), and a value of 0 otherwise. similarly, $N_B$ is the overall *number* of background hits."
   ]
  },
  {
   "cell_type": "code",
   "execution_count": null,
   "id": "3e6562f1-f6b7-4689-957d-023697e3049e",
   "metadata": {},
   "outputs": [],
   "source": [
    "n_i = (y_instance == -1)\n",
    "N_B = n_i.sum()\n",
    "n_i, N_B"
   ]
  },
  {
   "cell_type": "markdown",
   "id": "807a1b07-2d87-4a77-925e-af318c2a237d",
   "metadata": {},
   "source": [
    "### number of objects\n",
    "\n",
    "since the instance indices are ascending beginning with 0, the number of instances in the event $K$ is simply the maximum instance index plus 1."
   ]
  },
  {
   "cell_type": "code",
   "execution_count": null,
   "id": "1379a442-145d-46fb-a15f-693e24b6e7ca",
   "metadata": {},
   "outputs": [],
   "source": [
    "K = y_instance.max() + 1\n",
    "K"
   ]
  },
  {
   "cell_type": "markdown",
   "id": "8c36ddf5-72cc-417d-be33-3c59573b202b",
   "metadata": {},
   "source": [
    "### cluster assignment matrix $M_{ik}$\n",
    "\n",
    "the cluster assignment matrix maps the hits onto their corresponding indices using a one-hot tensor."
   ]
  },
  {
   "cell_type": "code",
   "execution_count": null,
   "id": "fa61b317-23c4-47f0-b11a-c1075c97a868",
   "metadata": {},
   "outputs": [],
   "source": [
    "M_ik = torch.zeros((y_instance.size(0), K)).long()\n",
    "M_ik[~n_i,:] = torch.nn.functional.one_hot(y_instance[~n_i], num_classes=K)\n",
    "M_ik"
   ]
  },
  {
   "cell_type": "markdown",
   "id": "6b295ba3-5024-408c-9d57-4c23029d6c4d",
   "metadata": {},
   "source": [
    "### $\\beta_{i}$\n",
    "\n",
    "the $\\beta_{i}$ array will come out of the decoder's convolution block itself, but for the purposes of testing, we can just create a fake one here with random values"
   ]
  },
  {
   "cell_type": "code",
   "execution_count": null,
   "id": "6674bb0b-1cff-457d-bfaf-aa9419546df6",
   "metadata": {},
   "outputs": [],
   "source": [
    "beta_i = torch.rand(y_instance.size(0))\n",
    "beta_i"
   ]
  },
  {
   "cell_type": "markdown",
   "id": "49a4eef5-889e-490d-9f75-b66880476b30",
   "metadata": {},
   "source": [
    "### $\\beta_{\\alpha k}$\n",
    "\n",
    "the $\\beta_{\\alpha k}$ tensor summarises the information from $\\beta_{i}$ across instances "
   ]
  },
  {
   "cell_type": "code",
   "execution_count": null,
   "id": "e95e821f-5a31-4957-b34b-e8e0a29c2680",
   "metadata": {},
   "outputs": [],
   "source": [
    "beta_ak = (beta_i[:,None] * M_ik).max(dim=0)\n",
    "beta_ak"
   ]
  },
  {
   "cell_type": "markdown",
   "id": "633f40b9-95a6-4cd3-a97c-5508252c556e",
   "metadata": {},
   "source": [
    "### exercise: define background loss function\n",
    "\n",
    "equation 7 in the [object condensation paper](https://arxiv.org/abs/2002.03605) defines the background loss term as $L_{\\beta} = \\frac{1}{K} \\sum_{k} (1 - \\beta_{\\alpha k}) + s_{B} \\frac{1}{N_{B}} \\sum_{i}^{N} n_{i} \\beta_{i}$"
   ]
  },
  {
   "cell_type": "code",
   "execution_count": null,
   "id": "2736daf7-2433-4c19-93be-2e0ff9947405",
   "metadata": {},
   "outputs": [],
   "source": [
    "def background_loss(beta, y_instance):\n",
    "    # implement the code here!\n",
    "    return 0\n",
    "\n",
    "# call the function and get a return value\n",
    "background_loss(beta_i, y_instance)"
   ]
  },
  {
   "cell_type": "code",
   "execution_count": null,
   "id": "7b4b612b-79d6-4c6c-8578-e097bed56a90",
   "metadata": {},
   "outputs": [],
   "source": []
  }
 ],
 "metadata": {
  "kernelspec": {
   "display_name": "Python 3 (ipykernel)",
   "language": "python",
   "name": "python3"
  },
  "language_info": {
   "codemirror_mode": {
    "name": "ipython",
    "version": 3
   },
   "file_extension": ".py",
   "mimetype": "text/x-python",
   "name": "python",
   "nbconvert_exporter": "python",
   "pygments_lexer": "ipython3",
   "version": "3.10.10"
  }
 },
 "nbformat": 4,
 "nbformat_minor": 5
}
